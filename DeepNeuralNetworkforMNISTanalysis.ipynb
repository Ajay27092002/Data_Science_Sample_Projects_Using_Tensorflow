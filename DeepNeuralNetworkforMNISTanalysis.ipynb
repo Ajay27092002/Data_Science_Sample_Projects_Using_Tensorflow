{
 "cells": [
  {
   "cell_type": "markdown",
   "id": "05a0963a-4b53-4f75-9357-3bb916b18e6d",
   "metadata": {},
   "source": [
    "# Import libraries"
   ]
  },
  {
   "cell_type": "code",
   "execution_count": 71,
   "id": "ecdb2816-7b50-43da-8b2d-9100ee608c4d",
   "metadata": {},
   "outputs": [],
   "source": [
    "import numpy as np\n",
    "import tensorflow as tf\n",
    "import tensorflow_datasets as tfds"
   ]
  },
  {
   "cell_type": "markdown",
   "id": "0cc21330-9ea1-4698-90ba-8468a0592eb5",
   "metadata": {},
   "source": [
    "# Data"
   ]
  },
  {
   "cell_type": "code",
   "execution_count": 73,
   "id": "a4a3f0f3-08f5-4926-ae7d-a260cfd340cc",
   "metadata": {},
   "outputs": [],
   "source": [
    "mnist_dataset, mnist_info = tfds.load(name = 'mnist', with_info = True, as_supervised = True)\n",
    "mnist_train , mnist_test = mnist_dataset['train'], mnist_dataset['test']\n",
    "\n",
    "num_validation_samples = 0.1*mnist_info.splits['train'].num_examples\n",
    "num_validation_samples = tf.cast(num_validation_samples, tf.int64)\n",
    "\n",
    "num_test_samples = mnist_info.splits['test'].num_examples\n",
    "num_test_samples = tf.cast(num_validation_samples, tf.int64)\n",
    "\n",
    "def scale (image,label):\n",
    "    image = tf.cast(image,tf.float32)\n",
    "    image /=255.\n",
    "    return image,label\n",
    "scaled_train_and_validation_data = mnist_train.map(scale)\n",
    "test_data = mnist_test.map(scale)\n",
    "\n",
    "#Shuffle data\n",
    "BUFFER_SIZE = 10000\n",
    "shuffled_train_and_validation_data = scaled_train_and_validation_data.shuffle(BUFFER_SIZE)\n",
    "validation_data = shuffled_train_and_validation_data.take(num_validation_samples)\n",
    "train_data = shuffled_train_and_validation_data.skip(num_validation_samples)\n",
    "\n",
    "BATCH_SIZE = 100\n",
    "train_data = train_data.batch(BATCH_SIZE)\n",
    "validation_data = validation_data.batch(num_validation_samples)\n",
    "test_data = test_data.batch(num_test_samples)\n",
    "validation_inputs, validation_targets = next(iter(validation_data))"
   ]
  },
  {
   "cell_type": "markdown",
   "id": "54f74c90-4284-4737-bb8f-456cd12f2f5e",
   "metadata": {},
   "source": [
    "# Model"
   ]
  },
  {
   "cell_type": "markdown",
   "id": "5019ed93-380c-4fc3-bc21-2888946e62ac",
   "metadata": {},
   "source": [
    "# Outline the model"
   ]
  },
  {
   "cell_type": "code",
   "execution_count": 90,
   "id": "ef5fece6-ebb0-401f-bf7f-53e6c2d765ed",
   "metadata": {},
   "outputs": [],
   "source": [
    "input_size = 784\n",
    "output_size = 10\n",
    "hidden_layer_size = 200\n",
    "model = tf.keras.Sequential([tf.keras.layers.Flatten(input_shape=(28,28,1)), tf.keras.layers.Dense(hidden_layer_size, activation = 'relu'), \n",
    "                             tf.keras.layers.Dense(hidden_layer_size, activation = 'relu'), tf.keras.layers.Dense(output_size, activation = 'softmax')])"
   ]
  },
  {
   "cell_type": "markdown",
   "id": "8b3f6b1c-9a96-4dc1-a828-0120d58e6a17",
   "metadata": {},
   "source": [
    "# Choose the optimizer and the loss function"
   ]
  },
  {
   "cell_type": "code",
   "execution_count": 92,
   "id": "024e2e2f-b817-4c68-8e1e-62a0b63f925a",
   "metadata": {},
   "outputs": [],
   "source": [
    "model.compile(optimizer = 'adam' , loss = 'sparse_categorical_crossentropy', metrics = ['accuracy'])"
   ]
  },
  {
   "cell_type": "markdown",
   "id": "291fc88b-285a-459c-8726-2c49a91afae9",
   "metadata": {},
   "source": [
    "# Traning"
   ]
  },
  {
   "cell_type": "code",
   "execution_count": 96,
   "id": "b9e00297-05c6-4adc-a004-13ea3c08246c",
   "metadata": {},
   "outputs": [
    {
     "name": "stdout",
     "output_type": "stream",
     "text": [
      "Epoch 1/5\n",
      "540/540 - 10s - loss: 0.2726 - accuracy: 0.9220 - val_loss: 0.1490 - val_accuracy: 0.9578 - 10s/epoch - 18ms/step\n",
      "Epoch 2/5\n",
      "540/540 - 5s - loss: 0.1088 - accuracy: 0.9676 - val_loss: 0.0967 - val_accuracy: 0.9692 - 5s/epoch - 9ms/step\n",
      "Epoch 3/5\n",
      "540/540 - 5s - loss: 0.0714 - accuracy: 0.9787 - val_loss: 0.0618 - val_accuracy: 0.9793 - 5s/epoch - 9ms/step\n",
      "Epoch 4/5\n",
      "540/540 - 4s - loss: 0.0531 - accuracy: 0.9835 - val_loss: 0.0562 - val_accuracy: 0.9820 - 4s/epoch - 7ms/step\n",
      "Epoch 5/5\n",
      "540/540 - 4s - loss: 0.0414 - accuracy: 0.9874 - val_loss: 0.0558 - val_accuracy: 0.9827 - 4s/epoch - 8ms/step\n"
     ]
    },
    {
     "data": {
      "text/plain": [
       "<keras.callbacks.History at 0x1da4c160e80>"
      ]
     },
     "execution_count": 96,
     "metadata": {},
     "output_type": "execute_result"
    }
   ],
   "source": [
    "NUM_EPOCHS = 5\n",
    "model.fit(train_data, epochs=NUM_EPOCHS, validation_data=(validation_inputs, validation_targets), verbose =2)"
   ]
  },
  {
   "cell_type": "markdown",
   "id": "8e573ec2-f432-4852-9fa5-68dfd74fcfa4",
   "metadata": {},
   "source": [
    "# Test the model "
   ]
  },
  {
   "cell_type": "code",
   "execution_count": 88,
   "id": "4c992b20-2b2b-4add-983c-1fde0313adde",
   "metadata": {},
   "outputs": [
    {
     "name": "stdout",
     "output_type": "stream",
     "text": [
      "2/2 [==============================] - 1s 175ms/step - loss: 0.1021 - accuracy: 0.9694\n",
      "Test loss: 0.10. Test accuracy: 96.94%\n"
     ]
    }
   ],
   "source": [
    "test_loss, test_accuracy = model.evaluate(test_data)\n",
    "print('Test loss: {0:.2f}. Test accuracy: {1:.2f}%'.format(test_loss, test_accuracy*100.))"
   ]
  },
  {
   "cell_type": "code",
   "execution_count": null,
   "id": "683e8b9c-ae41-47d2-af10-107ceb4323db",
   "metadata": {},
   "outputs": [],
   "source": []
  }
 ],
 "metadata": {
  "kernelspec": {
   "display_name": "Python [conda env:tfds_env]",
   "language": "python",
   "name": "conda-env-tfds_env-py"
  },
  "language_info": {
   "codemirror_mode": {
    "name": "ipython",
    "version": 3
   },
   "file_extension": ".py",
   "mimetype": "text/x-python",
   "name": "python",
   "nbconvert_exporter": "python",
   "pygments_lexer": "ipython3",
   "version": "3.10.8"
  }
 },
 "nbformat": 4,
 "nbformat_minor": 5
}
